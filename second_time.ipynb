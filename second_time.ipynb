{
 "cells": [
  {
   "cell_type": "code",
   "execution_count": 4,
   "metadata": {},
   "outputs": [],
   "source": [
    "import pandas as pd\n",
    "from sklearn.model_selection import train_test_split\n",
    "from sklearn.ensemble import RandomForestClassifier\n",
    "from sklearn.linear_model import LogisticRegression\n",
    "from sklearn.preprocessing import OneHotEncoder\n",
    "from sklearn.compose import ColumnTransformer\n",
    "from sklearn.pipeline import Pipeline"
   ]
  },
  {
   "cell_type": "code",
   "execution_count": 5,
   "metadata": {},
   "outputs": [],
   "source": [
    "# Load your dataset\n",
    "file_path = 'combined.csv'  # Adjust this if using another location\n",
    "combined = pd.read_csv(file_path)"
   ]
  },
  {
   "cell_type": "code",
   "execution_count": null,
   "metadata": {},
   "outputs": [],
   "source": [
    "# Select features and target\n",
    "# Remove country because there is only USA\n",
    "features = ['lat', 'long', 'source', 'device', 'operative_system', 'price', 'test']\n",
    "target = 'converted'\n",
    "\n",
    "# Split the data\n",
    "X = combined[features]\n",
    "y = combined[target]"
   ]
  },
  {
   "cell_type": "code",
   "execution_count": 7,
   "metadata": {},
   "outputs": [],
   "source": [
    "# Define preprocessing for categorical features\n",
    "categorical_features = ['country', 'source', 'device', 'operative_system']\n",
    "preprocessor = ColumnTransformer(\n",
    "    transformers=[\n",
    "        ('cat', OneHotEncoder(drop='first'), categorical_features)\n",
    "    ],\n",
    "    remainder='passthrough'  # Include other features as-is\n",
    ")"
   ]
  },
  {
   "cell_type": "code",
   "execution_count": 8,
   "metadata": {},
   "outputs": [],
   "source": [
    "# Split into train and test sets\n",
    "X_train, X_test, y_train, y_test = train_test_split(X, y, test_size=0.2, random_state=10)"
   ]
  },
  {
   "cell_type": "code",
   "execution_count": 9,
   "metadata": {},
   "outputs": [
    {
     "name": "stdout",
     "output_type": "stream",
     "text": [
      "Model accuracy: 0.98\n"
     ]
    }
   ],
   "source": [
    "# Create the pipeline with Logistic Regression\n",
    "model = Pipeline(steps=[\n",
    "    ('preprocessor', preprocessor),\n",
    "    ('classifier', LogisticRegression(max_iter=1000, random_state=50))\n",
    "])\n",
    "\n",
    "# Train the model\n",
    "model.fit(X_train, y_train)\n",
    "\n",
    "# Evaluate the model\n",
    "accuracy = model.score(X_test, y_test)\n",
    "print(f\"Model accuracy: {accuracy:.2f}\")"
   ]
  },
  {
   "cell_type": "code",
   "execution_count": 23,
   "metadata": {},
   "outputs": [
    {
     "name": "stdout",
     "output_type": "stream",
     "text": [
      "Optimal price: 39\n"
     ]
    }
   ],
   "source": [
    "# Function to predict optimal price\n",
    "def predict_optimal_price(model, input_data, preprocessor):\n",
    "    \"\"\"\n",
    "    Predicts the price (39 or 59) that maximizes the probability of 'converted = 1' for a given input.\n",
    "    \n",
    "    Parameters:\n",
    "    - model: Trained model\n",
    "    - input_data: Single-row DataFrame containing features for prediction\n",
    "    - preprocessor: Preprocessing pipeline\n",
    "    \n",
    "    Returns:\n",
    "    - Optimal price (39 or 59)\n",
    "    \"\"\"\n",
    "    # Copy the input data for modification\n",
    "    input_test_0 = input_data.copy()\n",
    "    input_test_0['test'] = 0  # Price 39\n",
    "    input_test_0['price'] = 39\n",
    "\n",
    "    input_test_1 = input_data.copy()\n",
    "    input_test_1['test'] = 1  # Price 59\n",
    "    input_test_1['price'] = 59\n",
    "\n",
    "    # Apply preprocessing\n",
    "    processed_test_0 = preprocessor.transform(input_test_0)\n",
    "    processed_test_1 = preprocessor.transform(input_test_1)\n",
    "\n",
    "    # Predict probabilities for 'converted = 1'\n",
    "    prob_test_0 = model.predict_proba(processed_test_0)[:, 1]\n",
    "    prob_test_1 = model.predict_proba(processed_test_1)[:, 1]\n",
    "\n",
    "    # Choose the price with the higher probability\n",
    "    return 39 if prob_test_0 > prob_test_1 else 59\n",
    "\n",
    "# Example usage: Predict optimal price for a sample input\n",
    "sample_input = X_test.iloc[[504]].copy()  # Taking the first sample from the test set\n",
    "optimal_price = predict_optimal_price(\n",
    "    model.named_steps['classifier'], \n",
    "    sample_input, \n",
    "    model.named_steps['preprocessor']\n",
    ")\n",
    "\n",
    "print(f\"Optimal price: {optimal_price}\")\n"
   ]
  },
  {
   "cell_type": "code",
   "execution_count": null,
   "metadata": {},
   "outputs": [],
   "source": []
  }
 ],
 "metadata": {
  "kernelspec": {
   "display_name": "Python 3",
   "language": "python",
   "name": "python3"
  },
  "language_info": {
   "codemirror_mode": {
    "name": "ipython",
    "version": 3
   },
   "file_extension": ".py",
   "mimetype": "text/x-python",
   "name": "python",
   "nbconvert_exporter": "python",
   "pygments_lexer": "ipython3",
   "version": "3.11.9"
  }
 },
 "nbformat": 4,
 "nbformat_minor": 2
}
